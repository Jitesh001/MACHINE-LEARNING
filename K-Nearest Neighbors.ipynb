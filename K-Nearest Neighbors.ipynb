{
 "cells": [
  {
   "cell_type": "code",
   "execution_count": 2,
   "metadata": {},
   "outputs": [],
   "source": [
    "import numpy as np\n",
    "import pandas as pd\n",
    "from sklearn import preprocessing, neighbors\n",
    "from sklearn.model_selection import cross_validate"
   ]
  },
  {
   "cell_type": "markdown",
   "metadata": {},
   "source": [
    "## K-Neighor algorithm on breast - cancer dataset"
   ]
  },
  {
   "cell_type": "raw",
   "metadata": {},
   "source": [
    "# Using scikitlearn tool\n",
    "The breast - cancer dataset is saved as 'data.csv'"
   ]
  },
  {
   "cell_type": "code",
   "execution_count": 18,
   "metadata": {},
   "outputs": [],
   "source": [
    "df = pd.read_csv('F:\\Jupyter\\Breast cancer\\data.csv') # "
   ]
  },
  {
   "cell_type": "code",
   "execution_count": 4,
   "metadata": {},
   "outputs": [
    {
     "name": "stdout",
     "output_type": "stream",
     "text": [
      "        id   clump_thickness   unif_cell_size  unif_cell_shape  marg_adhesion  \\\n",
      "0  1000025                 5                1                1              1   \n",
      "1  1002945                 5                4                4              5   \n",
      "2  1015425                 3                1                1              1   \n",
      "3  1016277                 6                8                8              1   \n",
      "4  1017023                 4                1                1              3   \n",
      "\n",
      "   single_epith_cell_size  bare_nuclei  bland_chrom  norm_nucleoli  mitoses  \\\n",
      "0                       2            1            3              1        1   \n",
      "1                       7           10            3              2        1   \n",
      "2                       2            2            3              1        1   \n",
      "3                       3            4            3              7        1   \n",
      "4                       2            1            3              1        1   \n",
      "\n",
      "   class  \n",
      "0      2  \n",
      "1      2  \n",
      "2      2  \n",
      "3      2  \n",
      "4      2  \n"
     ]
    }
   ],
   "source": [
    "print(df.head())"
   ]
  },
  {
   "cell_type": "code",
   "execution_count": 5,
   "metadata": {},
   "outputs": [],
   "source": [
    "df.replace('?', -99999, inplace = True) # just to make outliers"
   ]
  },
  {
   "cell_type": "code",
   "execution_count": 6,
   "metadata": {},
   "outputs": [],
   "source": [
    "df.drop(['id'], 1, inplace = True) # drop usless column"
   ]
  },
  {
   "cell_type": "code",
   "execution_count": 7,
   "metadata": {},
   "outputs": [],
   "source": [
    "# divide into features and labels\n",
    "\n",
    "X = np.array(df.drop(['class'], 1))\n",
    "Y = np.array(df['class'])"
   ]
  },
  {
   "cell_type": "code",
   "execution_count": 13,
   "metadata": {},
   "outputs": [],
   "source": [
    "# splitting into train and test set\n",
    "\n",
    "from sklearn.model_selection import train_test_split\n",
    "x_train, x_test,y_train, y_test = train_test_split(X, Y, test_size = 0.2)"
   ]
  },
  {
   "cell_type": "code",
   "execution_count": 15,
   "metadata": {},
   "outputs": [
    {
     "data": {
      "text/plain": [
       "KNeighborsClassifier(algorithm='auto', leaf_size=30, metric='minkowski',\n",
       "                     metric_params=None, n_jobs=None, n_neighbors=5, p=2,\n",
       "                     weights='uniform')"
      ]
     },
     "execution_count": 15,
     "metadata": {},
     "output_type": "execute_result"
    }
   ],
   "source": [
    "# define classifier\n",
    "clf  = neighbors.KNeighborsClassifier()\n",
    "\n",
    "# fit the classifier\n",
    "clf.fit(x_train, y_train)"
   ]
  },
  {
   "cell_type": "code",
   "execution_count": 16,
   "metadata": {},
   "outputs": [
    {
     "name": "stdout",
     "output_type": "stream",
     "text": [
      "0.9714285714285714\n"
     ]
    }
   ],
   "source": [
    "#check accuracy\n",
    "\n",
    "accuracy = clf.score(x_test, y_test)\n",
    "print(accuracy)"
   ]
  },
  {
   "cell_type": "code",
   "execution_count": 24,
   "metadata": {},
   "outputs": [],
   "source": [
    "# clearing some concept"
   ]
  },
  {
   "cell_type": "code",
   "execution_count": 21,
   "metadata": {},
   "outputs": [
    {
     "name": "stdout",
     "output_type": "stream",
     "text": [
      "[4]\n"
     ]
    }
   ],
   "source": [
    "# example\n",
    "example = np.array([5,3,3,3,2,3,4,4,1]) # ans is 4\n",
    "example = example.reshape(1,-1)   # (1,-1) 1 becoz 1 sample we provided\n",
    "predict = clf.predict(example)\n",
    "print(predict)  "
   ]
  },
  {
   "cell_type": "code",
   "execution_count": 22,
   "metadata": {},
   "outputs": [
    {
     "name": "stdout",
     "output_type": "stream",
     "text": [
      "[4 4]\n"
     ]
    }
   ],
   "source": [
    "# to check \"N\" sample at time put .reshape(N,-1)\n",
    "example = np.array([[5,3,3,3,2,3,4,4,1],[10,7,7,6,4,10,4,1,2]]) # ans is 4 , 4\n",
    "example = example.reshape(2,-1)   # (2,-1) 2 becoz 2 sample we provided\n",
    "predict = clf.predict(example)\n",
    "print(predict)  "
   ]
  },
  {
   "cell_type": "code",
   "execution_count": 23,
   "metadata": {},
   "outputs": [
    {
     "name": "stdout",
     "output_type": "stream",
     "text": [
      "[4 4 2]\n"
     ]
    }
   ],
   "source": [
    "# but ypu cant evrytime put N value so put len(example) in place of \"N\"\n",
    "example = np.array([[5,3,3,3,2,3,4,4,1],[10,7,7,6,4,10,4,1,2], [1,1,1,1,1,1,3,1,1]]) # ans is 4 , 4,2\n",
    "example = example.reshape(len(example),-1)   \n",
    "predict = clf.predict(example)\n",
    "print(predict) "
   ]
  },
  {
   "cell_type": "code",
   "execution_count": null,
   "metadata": {},
   "outputs": [],
   "source": []
  },
  {
   "cell_type": "code",
   "execution_count": null,
   "metadata": {},
   "outputs": [],
   "source": []
  }
 ],
 "metadata": {
  "kernelspec": {
   "display_name": "Python 3",
   "language": "python",
   "name": "python3"
  },
  "language_info": {
   "codemirror_mode": {
    "name": "ipython",
    "version": 3
   },
   "file_extension": ".py",
   "mimetype": "text/x-python",
   "name": "python",
   "nbconvert_exporter": "python",
   "pygments_lexer": "ipython3",
   "version": "3.7.6"
  }
 },
 "nbformat": 4,
 "nbformat_minor": 2
}
